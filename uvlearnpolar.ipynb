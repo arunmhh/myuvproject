{
 "cells": [
  {
   "cell_type": "code",
   "execution_count": 1,
   "id": "c0739f2a",
   "metadata": {},
   "outputs": [],
   "source": [
    "import pandas as pd\n",
    "import numpy as np\n",
    "import matplotlib as plt\n",
    "import polars as pl\n"
   ]
  },
  {
   "cell_type": "code",
   "execution_count": 2,
   "id": "b11de88e",
   "metadata": {},
   "outputs": [],
   "source": [
    "df = pl.DataFrame(\n",
    "    {\n",
    "         \"A\": [1, 2, 3, 4, 5],\n",
    "         \"fruits\": [\"banana\", \"banana\", \"apple\", \"apple\", \"banana\"],\n",
    "         \"B\": [5, 4, 3, 2, 1],\n",
    "         \"cars\": [\"beetle\", \"audi\", \"beetle\", \"beetle\", \"beetle\"],\n",
    "     }\n",
    " )"
   ]
  },
  {
   "cell_type": "code",
   "execution_count": 3,
   "id": "5aad8e2c",
   "metadata": {},
   "outputs": [
    {
     "data": {
      "text/html": [
       "<div><style>\n",
       ".dataframe > thead > tr,\n",
       ".dataframe > tbody > tr {\n",
       "  text-align: right;\n",
       "  white-space: pre-wrap;\n",
       "}\n",
       "</style>\n",
       "<small>shape: (5, 4)</small><table border=\"1\" class=\"dataframe\"><thead><tr><th>A</th><th>fruits</th><th>B</th><th>cars</th></tr><tr><td>i64</td><td>str</td><td>i64</td><td>str</td></tr></thead><tbody><tr><td>3</td><td>&quot;apple&quot;</td><td>3</td><td>&quot;beetle&quot;</td></tr><tr><td>4</td><td>&quot;apple&quot;</td><td>2</td><td>&quot;beetle&quot;</td></tr><tr><td>1</td><td>&quot;banana&quot;</td><td>5</td><td>&quot;beetle&quot;</td></tr><tr><td>2</td><td>&quot;banana&quot;</td><td>4</td><td>&quot;audi&quot;</td></tr><tr><td>5</td><td>&quot;banana&quot;</td><td>1</td><td>&quot;beetle&quot;</td></tr></tbody></table></div>"
      ],
      "text/plain": [
       "shape: (5, 4)\n",
       "┌─────┬────────┬─────┬────────┐\n",
       "│ A   ┆ fruits ┆ B   ┆ cars   │\n",
       "│ --- ┆ ---    ┆ --- ┆ ---    │\n",
       "│ i64 ┆ str    ┆ i64 ┆ str    │\n",
       "╞═════╪════════╪═════╪════════╡\n",
       "│ 3   ┆ apple  ┆ 3   ┆ beetle │\n",
       "│ 4   ┆ apple  ┆ 2   ┆ beetle │\n",
       "│ 1   ┆ banana ┆ 5   ┆ beetle │\n",
       "│ 2   ┆ banana ┆ 4   ┆ audi   │\n",
       "│ 5   ┆ banana ┆ 1   ┆ beetle │\n",
       "└─────┴────────┴─────┴────────┘"
      ]
     },
     "execution_count": 3,
     "metadata": {},
     "output_type": "execute_result"
    }
   ],
   "source": [
    "df.sort(\"fruits\")"
   ]
  },
  {
   "cell_type": "code",
   "execution_count": 4,
   "id": "55fdbe56",
   "metadata": {},
   "outputs": [
    {
     "data": {
      "text/html": [
       "<div><style>\n",
       ".dataframe > thead > tr,\n",
       ".dataframe > tbody > tr {\n",
       "  text-align: right;\n",
       "  white-space: pre-wrap;\n",
       "}\n",
       "</style>\n",
       "<small>shape: (5, 8)</small><table border=\"1\" class=\"dataframe\"><thead><tr><th>fruits</th><th>cars</th><th>literal_string_fruits</th><th>B</th><th>sum_A_by_cars</th><th>sum_A_by_fruits</th><th>rev_A_by_fruits</th><th>sort_A_by_B_by_fruits</th></tr><tr><td>str</td><td>str</td><td>str</td><td>i64</td><td>i64</td><td>i64</td><td>i64</td><td>i64</td></tr></thead><tbody><tr><td>&quot;apple&quot;</td><td>&quot;beetle&quot;</td><td>&quot;fruits&quot;</td><td>11</td><td>4</td><td>7</td><td>4</td><td>4</td></tr><tr><td>&quot;apple&quot;</td><td>&quot;beetle&quot;</td><td>&quot;fruits&quot;</td><td>11</td><td>4</td><td>7</td><td>3</td><td>3</td></tr><tr><td>&quot;banana&quot;</td><td>&quot;beetle&quot;</td><td>&quot;fruits&quot;</td><td>11</td><td>4</td><td>8</td><td>5</td><td>5</td></tr><tr><td>&quot;banana&quot;</td><td>&quot;audi&quot;</td><td>&quot;fruits&quot;</td><td>11</td><td>2</td><td>8</td><td>2</td><td>2</td></tr><tr><td>&quot;banana&quot;</td><td>&quot;beetle&quot;</td><td>&quot;fruits&quot;</td><td>11</td><td>4</td><td>8</td><td>1</td><td>1</td></tr></tbody></table></div>"
      ],
      "text/plain": [
       "shape: (5, 8)\n",
       "┌────────┬────────┬──────────────┬─────┬──────────────┬──────────────┬──────────────┬──────────────┐\n",
       "│ fruits ┆ cars   ┆ literal_stri ┆ B   ┆ sum_A_by_car ┆ sum_A_by_fru ┆ rev_A_by_fru ┆ sort_A_by_B_ │\n",
       "│ ---    ┆ ---    ┆ ng_fruits    ┆ --- ┆ s            ┆ its          ┆ its          ┆ by_fruits    │\n",
       "│ str    ┆ str    ┆ ---          ┆ i64 ┆ ---          ┆ ---          ┆ ---          ┆ ---          │\n",
       "│        ┆        ┆ str          ┆     ┆ i64          ┆ i64          ┆ i64          ┆ i64          │\n",
       "╞════════╪════════╪══════════════╪═════╪══════════════╪══════════════╪══════════════╪══════════════╡\n",
       "│ apple  ┆ beetle ┆ fruits       ┆ 11  ┆ 4            ┆ 7            ┆ 4            ┆ 4            │\n",
       "│ apple  ┆ beetle ┆ fruits       ┆ 11  ┆ 4            ┆ 7            ┆ 3            ┆ 3            │\n",
       "│ banana ┆ beetle ┆ fruits       ┆ 11  ┆ 4            ┆ 8            ┆ 5            ┆ 5            │\n",
       "│ banana ┆ audi   ┆ fruits       ┆ 11  ┆ 2            ┆ 8            ┆ 2            ┆ 2            │\n",
       "│ banana ┆ beetle ┆ fruits       ┆ 11  ┆ 4            ┆ 8            ┆ 1            ┆ 1            │\n",
       "└────────┴────────┴──────────────┴─────┴──────────────┴──────────────┴──────────────┴──────────────┘"
      ]
     },
     "execution_count": 4,
     "metadata": {},
     "output_type": "execute_result"
    }
   ],
   "source": [
    "df.sort(\"fruits\").select(\n",
    "...     \"fruits\",\n",
    "...     \"cars\",\n",
    "...     pl.lit(\"fruits\").alias(\"literal_string_fruits\"),\n",
    "...     pl.col(\"B\").filter(pl.col(\"cars\") == \"beetle\").sum(),\n",
    "...     pl.col(\"A\").filter(pl.col(\"B\") > 2).sum().over(\"cars\").alias(\"sum_A_by_cars\"),\n",
    "...     pl.col(\"A\").sum().over(\"fruits\").alias(\"sum_A_by_fruits\"),\n",
    "...     pl.col(\"A\").reverse().over(\"fruits\").alias(\"rev_A_by_fruits\"),\n",
    "...     pl.col(\"A\").sort_by(\"B\").over(\"fruits\").alias(\"sort_A_by_B_by_fruits\"),\n",
    "... )"
   ]
  },
  {
   "cell_type": "code",
   "execution_count": 5,
   "id": "6dfc478f",
   "metadata": {},
   "outputs": [
    {
     "name": "stdout",
     "output_type": "stream",
     "text": [
      "shape: (4, 4)\n",
      "┌────────────────┬────────────┬────────┬────────┐\n",
      "│ name           ┆ birthdate  ┆ weight ┆ height │\n",
      "│ ---            ┆ ---        ┆ ---    ┆ ---    │\n",
      "│ str            ┆ date       ┆ f64    ┆ f64    │\n",
      "╞════════════════╪════════════╪════════╪════════╡\n",
      "│ Alice Archer   ┆ 1997-01-10 ┆ 57.9   ┆ 1.56   │\n",
      "│ Ben Brown      ┆ 1985-02-15 ┆ 72.5   ┆ 1.77   │\n",
      "│ Chloe Cooper   ┆ 1983-03-22 ┆ 53.6   ┆ 1.65   │\n",
      "│ Daniel Donovan ┆ 1981-04-30 ┆ 83.1   ┆ 1.75   │\n",
      "└────────────────┴────────────┴────────┴────────┘\n"
     ]
    }
   ],
   "source": [
    "import polars as pl\n",
    "import datetime as dt\n",
    "\n",
    "df = pl.DataFrame(\n",
    "    {\n",
    "        \"name\": [\"Alice Archer\", \"Ben Brown\", \"Chloe Cooper\", \"Daniel Donovan\"],\n",
    "        \"birthdate\": [\n",
    "            dt.date(1997, 1, 10),\n",
    "            dt.date(1985, 2, 15),\n",
    "            dt.date(1983, 3, 22),\n",
    "            dt.date(1981, 4, 30),\n",
    "        ],\n",
    "        \"weight\": [57.9, 72.5, 53.6, 83.1],  # (kg)\n",
    "        \"height\": [1.56, 1.77, 1.65, 1.75],  # (m)\n",
    "    }\n",
    ")\n",
    "\n",
    "print(df)"
   ]
  },
  {
   "cell_type": "code",
   "execution_count": 10,
   "id": "ec3d4df7",
   "metadata": {},
   "outputs": [
    {
     "data": {
      "text/html": [
       "[(col(\"weight\")) / (col(\"height\").pow([dyn int: 2]))].alias(\"BMI\")"
      ],
      "text/plain": [
       "<Expr ['[(col(\"weight\")) / (col(\"heigh…'] at 0x1C8F5B227D0>"
      ]
     },
     "execution_count": 10,
     "metadata": {},
     "output_type": "execute_result"
    }
   ],
   "source": [
    "(pl.col(\"weight\") /(pl.col(\"height\") ** 2)) .alias(\"BMI\")\n",
    "#(pl.col(\"weight\") / (pl.col(\"height\") ** 2)).alias(\"bmi\")"
   ]
  },
  {
   "cell_type": "code",
   "execution_count": 11,
   "id": "58f6161d",
   "metadata": {},
   "outputs": [
    {
     "name": "stdout",
     "output_type": "stream",
     "text": [
      "shape: (4, 3)\n",
      "┌────────────────┬────────────┬───────────┐\n",
      "│ name           ┆ birth_year ┆ BMI       │\n",
      "│ ---            ┆ ---        ┆ ---       │\n",
      "│ str            ┆ i32        ┆ f64       │\n",
      "╞════════════════╪════════════╪═══════════╡\n",
      "│ Alice Archer   ┆ 1997       ┆ 23.791913 │\n",
      "│ Ben Brown      ┆ 1985       ┆ 23.141498 │\n",
      "│ Chloe Cooper   ┆ 1983       ┆ 19.687787 │\n",
      "│ Daniel Donovan ┆ 1981       ┆ 27.134694 │\n",
      "└────────────────┴────────────┴───────────┘\n"
     ]
    }
   ],
   "source": [
    "result = df.select(\n",
    "    pl.col(\"name\"),\n",
    "    pl.col(\"birthdate\").dt.year().alias(\"birth_year\"),\n",
    "    (pl.col(\"weight\") /(pl.col(\"height\") ** 2)) .alias(\"BMI\"),\n",
    ")\n",
    "print(result)"
   ]
  }
 ],
 "metadata": {
  "kernelspec": {
   "display_name": "myuvproject",
   "language": "python",
   "name": "python3"
  },
  "language_info": {
   "codemirror_mode": {
    "name": "ipython",
    "version": 3
   },
   "file_extension": ".py",
   "mimetype": "text/x-python",
   "name": "python",
   "nbconvert_exporter": "python",
   "pygments_lexer": "ipython3",
   "version": "3.11.14"
  }
 },
 "nbformat": 4,
 "nbformat_minor": 5
}
